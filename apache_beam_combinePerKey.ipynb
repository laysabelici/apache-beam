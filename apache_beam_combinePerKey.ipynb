{
  "nbformat": 4,
  "nbformat_minor": 0,
  "metadata": {
    "colab": {
      "provenance": [],
      "authorship_tag": "ABX9TyM6Xtyr+Y93RfkVkNmv1cQz",
      "include_colab_link": true
    },
    "kernelspec": {
      "name": "python3",
      "display_name": "Python 3"
    },
    "language_info": {
      "name": "python"
    }
  },
  "cells": [
    {
      "cell_type": "markdown",
      "metadata": {
        "id": "view-in-github",
        "colab_type": "text"
      },
      "source": [
        "<a href=\"https://colab.research.google.com/github/laysabelici/apache-beam/blob/main/apache_beam_combinePerKey.ipynb\" target=\"_parent\"><img src=\"https://colab.research.google.com/assets/colab-badge.svg\" alt=\"Open In Colab\"/></a>"
      ]
    },
    {
      "cell_type": "code",
      "source": [
        "#INSTALADOR PARA MÁQUINA VIRTUAL, EM MÁQUINA LOCAL NÃO COLOQUE [INTERATIVE]\n",
        "pip install apache_beam[interative]"
      ],
      "metadata": {
        "id": "hwWfFO_dnwBq"
      },
      "execution_count": null,
      "outputs": []
    },
    {
      "cell_type": "code",
      "source": [
        "#IMPORT BIBLIOTECA\n",
        "import apache_beam as beam"
      ],
      "metadata": {
        "id": "E3PTrdU6n8RQ"
      },
      "execution_count": 5,
      "outputs": []
    },
    {
      "cell_type": "code",
      "source": [
        "p1 = beam.Pipeline()\n",
        "\n",
        "Tempo_Atrasos = (\n",
        "    p1\n",
        "    |\"Importar dados\" >> beam.io.ReadFromText('/content/voos_sample.csv',\n",
        "                                              skip_header_lines = 1)\n",
        "    |\"Separar por vírgula\" >> beam.Map(lambda record: record.split(','))\n",
        "    #Realiza uma separação estilo booleano, também foi indicado a coluna para a ação.\n",
        "    #Agora vamos pegar todos os itens maior que 0 da coluna 8, referentes a atrasos.\n",
        "    #temmos que indicar o tipo de dado da coluna, pois ele trata sempre como str.\n",
        "    |\"Pegar voos atrasados\" >> beam.Filter(lambda record: int(record[8]) > 0)\n",
        "    #Criando uma Key e um Value, utilizando a coluna 4 (destino) e o atraso.\n",
        "    |\"Criar conjunto par\" >> beam.Map(lambda record: (record[4], int(record[8])))\n",
        "    # Soma todas as keys que são iguais, para um value unico\n",
        "    |\"Somar por key\" >> beam.CombinePerKey(sum)\n",
        "    #Mostra os dados\n",
        "    |\"Mostrar resultados\" >> beam.Map(print)\n",
        ")\n",
        "\n",
        "p1.run()"
      ],
      "metadata": {
        "colab": {
          "base_uri": "https://localhost:8080/"
        },
        "id": "KB8pQCxm8bih",
        "outputId": "5f0d17be-94bb-41f6-bb52-b3ad511f772f"
      },
      "execution_count": 51,
      "outputs": [
        {
          "output_type": "stream",
          "name": "stdout",
          "text": [
            "('LAX', 92)\n",
            "('HNL', 15)\n",
            "('DFW', 95)\n",
            "('OGG', 138)\n",
            "('JFK', 220)\n"
          ]
        },
        {
          "output_type": "execute_result",
          "data": {
            "text/plain": [
              "<apache_beam.runners.portability.fn_api_runner.fn_runner.RunnerResult at 0x7c91fcb24520>"
            ]
          },
          "metadata": {},
          "execution_count": 51
        }
      ]
    },
    {
      "cell_type": "code",
      "source": [],
      "metadata": {
        "id": "vc5XqGibFZ1W"
      },
      "execution_count": null,
      "outputs": []
    }
  ]
}
