{
  "nbformat": 4,
  "nbformat_minor": 0,
  "metadata": {
    "colab": {
      "provenance": [],
      "authorship_tag": "ABX9TyPWHaBjPP3ugQkPyZt26zdG",
      "include_colab_link": true
    },
    "kernelspec": {
      "name": "python3",
      "display_name": "Python 3"
    },
    "language_info": {
      "name": "python"
    }
  },
  "cells": [
    {
      "cell_type": "markdown",
      "metadata": {
        "id": "view-in-github",
        "colab_type": "text"
      },
      "source": [
        "<a href=\"https://colab.research.google.com/github/laysabelici/apache-beam/blob/main/apache_beam_combiners_Count_PerKey.ipynb\" target=\"_parent\"><img src=\"https://colab.research.google.com/assets/colab-badge.svg\" alt=\"Open In Colab\"/></a>"
      ]
    },
    {
      "cell_type": "code",
      "source": [
        "#INSTALADOR PARA MÁQUINA VIRTUAL, EM MÁQUINA LOCAL NÃO COLOQUE [INTERATIVE]\n",
        "pip install apache_beam[interative]"
      ],
      "metadata": {
        "id": "hwWfFO_dnwBq"
      },
      "execution_count": null,
      "outputs": []
    },
    {
      "cell_type": "code",
      "source": [
        "#IMPORT BIBLIOTECA\n",
        "import apache_beam as beam"
      ],
      "metadata": {
        "id": "E3PTrdU6n8RQ"
      },
      "execution_count": 5,
      "outputs": []
    },
    {
      "cell_type": "code",
      "source": [
        "p1 = beam.Pipeline()\n",
        "\n",
        "Qtd_atrasos = (\n",
        "    p1\n",
        "    |\"Importar dados\" >> beam.io.ReadFromText('/content/voos_sample.csv',\n",
        "                                              skip_header_lines = 1)\n",
        "    |\"Separar por vírgula\" >> beam.Map(lambda record: record.split(','))\n",
        "    #Realiza uma separação estilo booleano, também foi indicado a coluna para a ação.\n",
        "    #Agora vamos pegar todos os itens maior que 0 da coluna 8, referentes a atrasos.\n",
        "    #temmos que indicar o tipo de dado da coluna, pois ele trata sempre como str.\n",
        "    |\"Pegar voos atrasados\" >> beam.Filter(lambda record: int(record[8]) > 0)\n",
        "    #Criando uma Key e um Value, utilizando a coluna 4 (destino) e o atraso.\n",
        "    |\"Criar conjunto par\" >> beam.Map(lambda record: (record[4], int(record[8])))\n",
        "    # Soma todas as keys que são iguais, para um value unico\n",
        "    #Fornece a quantidade de atrasos por aeroporto\n",
        "    |\"Somar por key\" >> beam.combiners.Count.PerKey(sum)\n",
        "    #Mostra os dados\n",
        "    |\"Mostrar resultados\" >> beam.Map(print)\n",
        ")\n",
        "\n",
        "p1.run()"
      ],
      "metadata": {
        "colab": {
          "base_uri": "https://localhost:8080/"
        },
        "id": "KB8pQCxm8bih",
        "outputId": "056f7c8e-eb7e-4180-d5cc-1e5c4cd8b3e9"
      },
      "execution_count": 54,
      "outputs": [
        {
          "output_type": "stream",
          "name": "stdout",
          "text": [
            "('LAX', 4)\n",
            "('HNL', 1)\n",
            "('DFW', 1)\n",
            "('OGG', 1)\n",
            "('JFK', 4)\n"
          ]
        },
        {
          "output_type": "execute_result",
          "data": {
            "text/plain": [
              "<apache_beam.runners.portability.fn_api_runner.fn_runner.RunnerResult at 0x7c91fc5e2c20>"
            ]
          },
          "metadata": {},
          "execution_count": 54
        }
      ]
    },
    {
      "cell_type": "code",
      "source": [],
      "metadata": {
        "id": "vc5XqGibFZ1W"
      },
      "execution_count": null,
      "outputs": []
    }
  ]
}