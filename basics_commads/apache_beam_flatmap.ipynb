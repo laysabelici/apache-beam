{
  "nbformat": 4,
  "nbformat_minor": 0,
  "metadata": {
    "colab": {
      "provenance": [],
      "authorship_tag": "ABX9TyP77Lj2vpsG7K+wTKadIJpI",
      "include_colab_link": true
    },
    "kernelspec": {
      "name": "python3",
      "display_name": "Python 3"
    },
    "language_info": {
      "name": "python"
    }
  },
  "cells": [
    {
      "cell_type": "markdown",
      "metadata": {
        "id": "view-in-github",
        "colab_type": "text"
      },
      "source": [
        "<a href=\"https://colab.research.google.com/github/laysabelici/apache-beam/blob/main/apache_beam_flatmap.ipynb\" target=\"_parent\"><img src=\"https://colab.research.google.com/assets/colab-badge.svg\" alt=\"Open In Colab\"/></a>"
      ]
    },
    {
      "cell_type": "code",
      "source": [
        "#INSTALADOR PARA MÁQUINA VIRTUAL, EM MÁQUINA LOCAL NÃO COLOQUE [INTERATIVE]\n",
        "pip install apache_beam[interative]"
      ],
      "metadata": {
        "id": "hwWfFO_dnwBq"
      },
      "execution_count": null,
      "outputs": []
    },
    {
      "cell_type": "code",
      "source": [
        "#IMPORT BIBLIOTECA\n",
        "import apache_beam as beam"
      ],
      "metadata": {
        "id": "E3PTrdU6n8RQ"
      },
      "execution_count": 5,
      "outputs": []
    },
    {
      "cell_type": "code",
      "source": [
        "p1 = beam.Pipeline()\n",
        "\n",
        "Collection = (\n",
        "    p1\n",
        "    |beam.io.ReadFromText('/content/poema.txt')\n",
        "    #O FlatMap é uma transformação que permite gerar zero ou mais elementos de saída\n",
        "    #para cada elemento de entrada\n",
        "    |beam.FlatMap(lambda record: record.split(' '))\n",
        "    |beam.Map(print)\n",
        ")\n",
        "\n",
        "p1.run()"
      ],
      "metadata": {
        "colab": {
          "base_uri": "https://localhost:8080/"
        },
        "id": "1OJVcD2Xt1i2",
        "outputId": "48537885-e39c-4fac-a4dc-57bc9652ad89"
      },
      "execution_count": 32,
      "outputs": [
        {
          "output_type": "stream",
          "name": "stdout",
          "text": [
            "Há\n",
            "quatro\n",
            "quadros\n",
            "três\n",
            "e\n",
            "três\n",
            "quadros\n",
            "quatro.\n",
            "\n",
            "Sendo\n",
            "que\n",
            "quatro\n",
            "destes\n",
            "quadros\n",
            "são\n",
            "quadrados,\n",
            "\n",
            "um\n",
            "dos\n",
            "quadros\n",
            "quatro\n",
            "e\n",
            "três\n",
            "dos\n",
            "quadros\n",
            "três.\n",
            "\n",
            "Os\n",
            "três\n",
            "quadros\n",
            "que\n",
            "não\n",
            "são\n",
            "quadrados,\n",
            "\n",
            "são\n",
            "dois\n",
            "dos\n",
            "quadros\n",
            "quatro\n",
            "e\n",
            "um\n",
            "dos\n",
            "quadros\n",
            "três.\n"
          ]
        },
        {
          "output_type": "execute_result",
          "data": {
            "text/plain": [
              "<apache_beam.runners.portability.fn_api_runner.fn_runner.RunnerResult at 0x7c91fc598a00>"
            ]
          },
          "metadata": {},
          "execution_count": 32
        }
      ]
    },
    {
      "cell_type": "code",
      "source": [],
      "metadata": {
        "id": "eKw7cNvSxtsO"
      },
      "execution_count": null,
      "outputs": []
    }
  ]
}
