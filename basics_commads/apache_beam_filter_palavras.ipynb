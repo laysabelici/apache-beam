{
  "nbformat": 4,
  "nbformat_minor": 0,
  "metadata": {
    "colab": {
      "provenance": [],
      "authorship_tag": "ABX9TyOqzaZey2skMKpwuOTGHNjQ",
      "include_colab_link": true
    },
    "kernelspec": {
      "name": "python3",
      "display_name": "Python 3"
    },
    "language_info": {
      "name": "python"
    }
  },
  "cells": [
    {
      "cell_type": "markdown",
      "metadata": {
        "id": "view-in-github",
        "colab_type": "text"
      },
      "source": [
        "<a href=\"https://colab.research.google.com/github/laysabelici/apache-beam/blob/main/apache_beam_filter_palavras.ipynb\" target=\"_parent\"><img src=\"https://colab.research.google.com/assets/colab-badge.svg\" alt=\"Open In Colab\"/></a>"
      ]
    },
    {
      "cell_type": "code",
      "source": [
        "#INSTALADOR PARA MÁQUINA VIRTUAL, EM MÁQUINA LOCAL NÃO COLOQUE [INTERATIVE]\n",
        "pip install apache_beam[interative]"
      ],
      "metadata": {
        "id": "hwWfFO_dnwBq"
      },
      "execution_count": null,
      "outputs": []
    },
    {
      "cell_type": "code",
      "source": [
        "#IMPORT BIBLIOTECA\n",
        "import apache_beam as beam"
      ],
      "metadata": {
        "id": "E3PTrdU6n8RQ"
      },
      "execution_count": 5,
      "outputs": []
    },
    {
      "cell_type": "code",
      "source": [
        "p1 = beam.Pipeline()\n",
        "\n",
        "palavras=['quatro', 'um']\n",
        "\n",
        "#FUNCTION\n",
        "def encontrarPalavras(i):\n",
        "  if i in palavras:\n",
        "    return True\n",
        "\n",
        "Collection = (\n",
        "    p1\n",
        "    |\"Importar dados\" >> beam.io.ReadFromText('/content/poema.txt')\n",
        "    |\"Separar por vírgula\" >> beam.FlatMap(lambda record: record.split(' '))\n",
        "    |\"Filtrar palavras\" >> beam.Filter(encontrarPalavras)\n",
        "    |\"Mostrar dados\" >> beam.Map(print)\n",
        ")\n",
        "\n",
        "p1.run()"
      ],
      "metadata": {
        "colab": {
          "base_uri": "https://localhost:8080/"
        },
        "id": "eKw7cNvSxtsO",
        "outputId": "b06d22fc-cf05-45df-da9e-a0ef42b4d926"
      },
      "execution_count": 44,
      "outputs": [
        {
          "output_type": "stream",
          "name": "stdout",
          "text": [
            "quatro\n",
            "quatro\n",
            "um\n",
            "quatro\n",
            "quatro\n",
            "um\n"
          ]
        },
        {
          "output_type": "execute_result",
          "data": {
            "text/plain": [
              "<apache_beam.runners.portability.fn_api_runner.fn_runner.RunnerResult at 0x7c91fdd127d0>"
            ]
          },
          "metadata": {},
          "execution_count": 44
        }
      ]
    },
    {
      "cell_type": "code",
      "source": [],
      "metadata": {
        "id": "KB8pQCxm8bih"
      },
      "execution_count": null,
      "outputs": []
    }
  ]
}
