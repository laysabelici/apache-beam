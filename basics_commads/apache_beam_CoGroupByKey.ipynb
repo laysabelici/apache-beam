{
  "nbformat": 4,
  "nbformat_minor": 0,
  "metadata": {
    "colab": {
      "provenance": [],
      "authorship_tag": "ABX9TyOcMn2u2tIdmJR9KLSuRhjF",
      "include_colab_link": true
    },
    "kernelspec": {
      "name": "python3",
      "display_name": "Python 3"
    },
    "language_info": {
      "name": "python"
    }
  },
  "cells": [
    {
      "cell_type": "markdown",
      "metadata": {
        "id": "view-in-github",
        "colab_type": "text"
      },
      "source": [
        "<a href=\"https://colab.research.google.com/github/laysabelici/apache-beam/blob/main/apache_beam_CoGroupByKey.ipynb\" target=\"_parent\"><img src=\"https://colab.research.google.com/assets/colab-badge.svg\" alt=\"Open In Colab\"/></a>"
      ]
    },
    {
      "cell_type": "code",
      "source": [
        "#INSTALADOR PARA MÁQUINA VIRTUAL, EM MÁQUINA LOCAL NÃO COLOQUE [INTERATIVE]\n",
        "pip install apache_beam[interative]"
      ],
      "metadata": {
        "id": "hwWfFO_dnwBq"
      },
      "execution_count": null,
      "outputs": []
    },
    {
      "cell_type": "code",
      "source": [
        "#IMPORT BIBLIOTECA\n",
        "import apache_beam as beam"
      ],
      "metadata": {
        "id": "E3PTrdU6n8RQ"
      },
      "execution_count": 5,
      "outputs": []
    },
    {
      "cell_type": "code",
      "source": [
        "p1 = beam.Pipeline()\n",
        "\n",
        "Tempo_Atrasos = (\n",
        "    p1\n",
        "    |\"Importar dados\" >> beam.io.ReadFromText('/content/voos_sample.csv',\n",
        "                                              skip_header_lines = 1)\n",
        "    |\"Separar por vírgula\" >> beam.Map(lambda record: record.split(','))\n",
        "    #Realiza uma separação estilo booleano, também foi indicado a coluna para a ação.\n",
        "    #Agora vamos pegar todos os itens maior que 0 da coluna 8, referentes a atrasos.\n",
        "    #temmos que indicar o tipo de dado da coluna, pois ele trata sempre como str.\n",
        "    |\"Pegar voos atrasados\" >> beam.Filter(lambda record: int(record[8]) > 0)\n",
        "    #Criando uma Key e um Value, utilizando a coluna 4 (destino) e o atraso.\n",
        "    |\"Criar conjunto par\" >> beam.Map(lambda record: (record[4], int(record[8])))\n",
        "    # Soma todas as keys que são iguais, para um value unico\n",
        "    |\"Somar por key\" >> beam.CombinePerKey(sum)\n",
        ")"
      ],
      "metadata": {
        "id": "KB8pQCxm8bih"
      },
      "execution_count": 55,
      "outputs": []
    },
    {
      "cell_type": "code",
      "source": [
        "Qtd_Atrasos = (\n",
        "    p1\n",
        "    |\"Importar dados\" >> beam.io.ReadFromText('/content/voos_sample.csv',\n",
        "                                              skip_header_lines = 1)\n",
        "    |\"Separar por vírgula\" >> beam.Map(lambda record: record.split(','))\n",
        "    #Realiza uma separação estilo booleano, também foi indicado a coluna para a ação.\n",
        "    #Agora vamos pegar todos os itens maior que 0 da coluna 8, referentes a atrasos.\n",
        "    #temmos que indicar o tipo de dado da coluna, pois ele trata sempre como str.\n",
        "    |\"Pegar voos atrasados\" >> beam.Filter(lambda record: int(record[8]) > 0)\n",
        "    #Criando uma Key e um Value, utilizando a coluna 4 (destino) e o atraso.\n",
        "    |\"Criar conjunto par\" >> beam.Map(lambda record: (record[4], int(record[8])))\n",
        "    # Soma todas as keys que são iguais, para um value unico\n",
        "    #Fornece a quantidade de atrasos por aeroporto\n",
        "    |\"Somar por key\" >> beam.combiners.Count.PerKey(sum)\n",
        ")"
      ],
      "metadata": {
        "id": "vc5XqGibFZ1W"
      },
      "execution_count": 58,
      "outputs": []
    },
    {
      "cell_type": "code",
      "source": [
        "tabela_atrasos = (\n",
        "    #Criando tabela sendo dicionário.\n",
        "    #Essa estrutura pode ser útil em determinados casos,\n",
        "    #especialmente se você estiver agrupando ou processando dados\n",
        "    #que têm uma relação específica entre eles.\n",
        "    {'Qtd_Atrasos':Qtd_Atrasos, 'Tempo_Atrasos':Tempo_Atrasos}\n",
        "    #É usada para agrupar esses dados por chave.\n",
        "    #útil quando precisamos realizar operações de agregação ou processamento\n",
        "    #em grupos específicos de dados.\n",
        "    |\"Group by\" >> beam.CoGroupByKey()\n",
        "    |\"Mostrar dados\" >> beam.Map(print)\n",
        ")\n",
        "\n",
        "p1.run()"
      ],
      "metadata": {
        "colab": {
          "base_uri": "https://localhost:8080/"
        },
        "id": "8qVQtekjKCVX",
        "outputId": "0ae47680-c236-42c7-8f18-bbcc868d4f60"
      },
      "execution_count": 59,
      "outputs": [
        {
          "output_type": "stream",
          "name": "stdout",
          "text": [
            "('LAX', {'Qtd_Atrasos': [4], 'Tempo_Atrasos': [92]})\n",
            "('HNL', {'Qtd_Atrasos': [1], 'Tempo_Atrasos': [15]})\n",
            "('DFW', {'Qtd_Atrasos': [1], 'Tempo_Atrasos': [95]})\n",
            "('OGG', {'Qtd_Atrasos': [1], 'Tempo_Atrasos': [138]})\n",
            "('JFK', {'Qtd_Atrasos': [4], 'Tempo_Atrasos': [220]})\n"
          ]
        },
        {
          "output_type": "execute_result",
          "data": {
            "text/plain": [
              "<apache_beam.runners.portability.fn_api_runner.fn_runner.RunnerResult at 0x7c91f7880e50>"
            ]
          },
          "metadata": {},
          "execution_count": 59
        }
      ]
    }
  ]
}
