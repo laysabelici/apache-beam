{
  "nbformat": 4,
  "nbformat_minor": 0,
  "metadata": {
    "colab": {
      "provenance": [],
      "authorship_tag": "ABX9TyPaap7iTwwK8bn0SSN7gTFz",
      "include_colab_link": true
    },
    "kernelspec": {
      "name": "python3",
      "display_name": "Python 3"
    },
    "language_info": {
      "name": "python"
    }
  },
  "cells": [
    {
      "cell_type": "markdown",
      "metadata": {
        "id": "view-in-github",
        "colab_type": "text"
      },
      "source": [
        "<a href=\"https://colab.research.google.com/github/laysabelici/apache-beam/blob/main/apache_beam_flatter.ipynb\" target=\"_parent\"><img src=\"https://colab.research.google.com/assets/colab-badge.svg\" alt=\"Open In Colab\"/></a>"
      ]
    },
    {
      "cell_type": "code",
      "source": [
        "#INSTALADOR PARA MÁQUINA VIRTUAL, EM MÁQUINA LOCAL NÃO COLOQUE [INTERATIVE]\n",
        "pip install apache_beam[interative]"
      ],
      "metadata": {
        "id": "hwWfFO_dnwBq"
      },
      "execution_count": null,
      "outputs": []
    },
    {
      "cell_type": "code",
      "source": [
        "#IMPORT BIBLIOTECA\n",
        "import apache_beam as beam"
      ],
      "metadata": {
        "id": "E3PTrdU6n8RQ"
      },
      "execution_count": 5,
      "outputs": []
    },
    {
      "cell_type": "code",
      "source": [
        "p1 = beam.Pipeline()\n",
        "\n",
        "negros = ('João', 'Maria', 'José')\n",
        "brancos = ('Pedro', 'Ana', 'Paulo')\n",
        "indios = ('Alice', 'Lucas', 'Bruna')\n",
        "\n",
        "negros_pc = (\n",
        "    p1\n",
        "    |\"Criar PColletion negros\" >> beam.Create(negros)\n",
        "    )\n",
        "brancos_pc = (\n",
        "    p1\n",
        "    |\"Criar PColletion brancos\" >> beam.Create(brancos)\n",
        "    )\n",
        "indios_pc = (\n",
        "    p1\n",
        "    |\"Criar PColletion indios\" >> beam.Create(indios)\n",
        "    )\n",
        "\n",
        "pessoas = (\n",
        "    (negros_pc, brancos_pc, indios_pc)\n",
        "    #é usada para unir várias PCollection em uma única PCollection.\n",
        "    |\"Unir PColletions\" >> beam.Flatten()\n",
        "    |\"Mostrar dados\" >> beam.Map(print)\n",
        ")\n",
        "\n",
        "p1.run()"
      ],
      "metadata": {
        "colab": {
          "base_uri": "https://localhost:8080/"
        },
        "id": "KB8pQCxm8bih",
        "outputId": "128858aa-a10a-4bbe-d2e9-3da8351be0c9"
      },
      "execution_count": 46,
      "outputs": [
        {
          "output_type": "stream",
          "name": "stdout",
          "text": [
            "João\n",
            "Maria\n",
            "José\n",
            "Pedro\n",
            "Ana\n",
            "Paulo\n",
            "Alice\n",
            "Lucas\n",
            "Bruna\n"
          ]
        },
        {
          "output_type": "execute_result",
          "data": {
            "text/plain": [
              "<apache_beam.runners.portability.fn_api_runner.fn_runner.RunnerResult at 0x7c91f7fff970>"
            ]
          },
          "metadata": {},
          "execution_count": 46
        }
      ]
    },
    {
      "cell_type": "code",
      "source": [],
      "metadata": {
        "id": "vc5XqGibFZ1W"
      },
      "execution_count": null,
      "outputs": []
    }
  ]
}
